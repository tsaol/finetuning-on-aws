{
 "cells": [
  {
   "cell_type": "markdown",
   "id": "07cc3ce3-e024-4990-b6bb-d22c78514efa",
   "metadata": {},
   "source": [
    "# Using LLama Factory finetune on SageMaker \n",
    "# 2. 使用vLLM进行本地推理"
   ]
  },
  {
   "cell_type": "markdown",
   "id": "f97ce18b-d8a7-4f31-b8d6-1de1725124af",
   "metadata": {},
   "source": [
    "## 安装依赖包"
   ]
  },
  {
   "cell_type": "code",
   "execution_count": 13,
   "id": "b66561ea-0d2b-440c-ade2-d1820ea01e67",
   "metadata": {
    "tags": []
   },
   "outputs": [
    {
     "name": "stdout",
     "output_type": "stream",
     "text": [
      "Requirement already satisfied: vllm==0.4.3 in /home/ec2-user/anaconda3/envs/pytorch_p310/lib/python3.10/site-packages (0.4.3)\n",
      "Requirement already satisfied: bitsandbytes in /home/ec2-user/anaconda3/envs/pytorch_p310/lib/python3.10/site-packages (0.43.3)\n",
      "Requirement already satisfied: cmake>=3.21 in /home/ec2-user/anaconda3/envs/pytorch_p310/lib/python3.10/site-packages (from vllm==0.4.3) (3.30.2)\n",
      "Requirement already satisfied: ninja in /home/ec2-user/anaconda3/envs/pytorch_p310/lib/python3.10/site-packages (from vllm==0.4.3) (1.11.1.1)\n",
      "Requirement already satisfied: psutil in /home/ec2-user/anaconda3/envs/pytorch_p310/lib/python3.10/site-packages (from vllm==0.4.3) (6.0.0)\n",
      "Requirement already satisfied: sentencepiece in /home/ec2-user/anaconda3/envs/pytorch_p310/lib/python3.10/site-packages (from vllm==0.4.3) (0.2.0)\n",
      "Requirement already satisfied: numpy in /home/ec2-user/anaconda3/envs/pytorch_p310/lib/python3.10/site-packages (from vllm==0.4.3) (1.26.4)\n",
      "Requirement already satisfied: requests in /home/ec2-user/anaconda3/envs/pytorch_p310/lib/python3.10/site-packages (from vllm==0.4.3) (2.32.3)\n",
      "Requirement already satisfied: py-cpuinfo in /home/ec2-user/anaconda3/envs/pytorch_p310/lib/python3.10/site-packages (from vllm==0.4.3) (9.0.0)\n",
      "Requirement already satisfied: transformers>=4.40.0 in /home/ec2-user/anaconda3/envs/pytorch_p310/lib/python3.10/site-packages (from vllm==0.4.3) (4.44.2)\n",
      "Requirement already satisfied: tokenizers>=0.19.1 in /home/ec2-user/anaconda3/envs/pytorch_p310/lib/python3.10/site-packages (from vllm==0.4.3) (0.19.1)\n",
      "Requirement already satisfied: fastapi in /home/ec2-user/anaconda3/envs/pytorch_p310/lib/python3.10/site-packages (from vllm==0.4.3) (0.112.2)\n",
      "Requirement already satisfied: aiohttp in /home/ec2-user/anaconda3/envs/pytorch_p310/lib/python3.10/site-packages (from vllm==0.4.3) (3.10.5)\n",
      "Requirement already satisfied: openai in /home/ec2-user/anaconda3/envs/pytorch_p310/lib/python3.10/site-packages (from vllm==0.4.3) (1.43.0)\n",
      "Requirement already satisfied: uvicorn[standard] in /home/ec2-user/anaconda3/envs/pytorch_p310/lib/python3.10/site-packages (from vllm==0.4.3) (0.30.6)\n",
      "Requirement already satisfied: pydantic>=2.0 in /home/ec2-user/anaconda3/envs/pytorch_p310/lib/python3.10/site-packages (from vllm==0.4.3) (2.8.2)\n",
      "Requirement already satisfied: prometheus-client>=0.18.0 in /home/ec2-user/anaconda3/envs/pytorch_p310/lib/python3.10/site-packages (from vllm==0.4.3) (0.20.0)\n",
      "Requirement already satisfied: prometheus-fastapi-instrumentator>=7.0.0 in /home/ec2-user/anaconda3/envs/pytorch_p310/lib/python3.10/site-packages (from vllm==0.4.3) (7.0.0)\n",
      "Requirement already satisfied: tiktoken>=0.6.0 in /home/ec2-user/anaconda3/envs/pytorch_p310/lib/python3.10/site-packages (from vllm==0.4.3) (0.7.0)\n",
      "Requirement already satisfied: lm-format-enforcer==0.10.1 in /home/ec2-user/anaconda3/envs/pytorch_p310/lib/python3.10/site-packages (from vllm==0.4.3) (0.10.1)\n",
      "Requirement already satisfied: outlines==0.0.34 in /home/ec2-user/anaconda3/envs/pytorch_p310/lib/python3.10/site-packages (from vllm==0.4.3) (0.0.34)\n",
      "Requirement already satisfied: typing-extensions in /home/ec2-user/anaconda3/envs/pytorch_p310/lib/python3.10/site-packages (from vllm==0.4.3) (4.12.2)\n",
      "Requirement already satisfied: filelock>=3.10.4 in /home/ec2-user/anaconda3/envs/pytorch_p310/lib/python3.10/site-packages (from vllm==0.4.3) (3.15.4)\n",
      "Requirement already satisfied: ray>=2.9 in /home/ec2-user/anaconda3/envs/pytorch_p310/lib/python3.10/site-packages (from vllm==0.4.3) (2.35.0)\n",
      "Requirement already satisfied: nvidia-ml-py in /home/ec2-user/anaconda3/envs/pytorch_p310/lib/python3.10/site-packages (from vllm==0.4.3) (12.555.43)\n",
      "Requirement already satisfied: torch==2.3.0 in /home/ec2-user/anaconda3/envs/pytorch_p310/lib/python3.10/site-packages (from vllm==0.4.3) (2.3.0)\n",
      "Requirement already satisfied: xformers==0.0.26.post1 in /home/ec2-user/anaconda3/envs/pytorch_p310/lib/python3.10/site-packages (from vllm==0.4.3) (0.0.26.post1)\n",
      "Requirement already satisfied: vllm-flash-attn==2.5.8.post2 in /home/ec2-user/anaconda3/envs/pytorch_p310/lib/python3.10/site-packages (from vllm==0.4.3) (2.5.8.post2)\n",
      "Requirement already satisfied: interegular>=0.3.2 in /home/ec2-user/anaconda3/envs/pytorch_p310/lib/python3.10/site-packages (from lm-format-enforcer==0.10.1->vllm==0.4.3) (0.3.3)\n",
      "Requirement already satisfied: packaging in /home/ec2-user/anaconda3/envs/pytorch_p310/lib/python3.10/site-packages (from lm-format-enforcer==0.10.1->vllm==0.4.3) (21.3)\n",
      "Requirement already satisfied: pyyaml in /home/ec2-user/anaconda3/envs/pytorch_p310/lib/python3.10/site-packages (from lm-format-enforcer==0.10.1->vllm==0.4.3) (6.0.1)\n",
      "Requirement already satisfied: jinja2 in /home/ec2-user/anaconda3/envs/pytorch_p310/lib/python3.10/site-packages (from outlines==0.0.34->vllm==0.4.3) (3.1.4)\n",
      "Requirement already satisfied: lark in /home/ec2-user/anaconda3/envs/pytorch_p310/lib/python3.10/site-packages (from outlines==0.0.34->vllm==0.4.3) (1.2.2)\n",
      "Requirement already satisfied: nest-asyncio in /home/ec2-user/anaconda3/envs/pytorch_p310/lib/python3.10/site-packages (from outlines==0.0.34->vllm==0.4.3) (1.6.0)\n",
      "Requirement already satisfied: cloudpickle in /home/ec2-user/anaconda3/envs/pytorch_p310/lib/python3.10/site-packages (from outlines==0.0.34->vllm==0.4.3) (2.2.1)\n",
      "Requirement already satisfied: diskcache in /home/ec2-user/anaconda3/envs/pytorch_p310/lib/python3.10/site-packages (from outlines==0.0.34->vllm==0.4.3) (5.6.3)\n",
      "Requirement already satisfied: scipy in /home/ec2-user/anaconda3/envs/pytorch_p310/lib/python3.10/site-packages (from outlines==0.0.34->vllm==0.4.3) (1.14.0)\n",
      "Requirement already satisfied: numba in /home/ec2-user/anaconda3/envs/pytorch_p310/lib/python3.10/site-packages (from outlines==0.0.34->vllm==0.4.3) (0.60.0)\n",
      "Requirement already satisfied: joblib in /home/ec2-user/anaconda3/envs/pytorch_p310/lib/python3.10/site-packages (from outlines==0.0.34->vllm==0.4.3) (1.4.2)\n",
      "Requirement already satisfied: referencing in /home/ec2-user/anaconda3/envs/pytorch_p310/lib/python3.10/site-packages (from outlines==0.0.34->vllm==0.4.3) (0.35.1)\n",
      "Requirement already satisfied: jsonschema in /home/ec2-user/anaconda3/envs/pytorch_p310/lib/python3.10/site-packages (from outlines==0.0.34->vllm==0.4.3) (4.23.0)\n",
      "Requirement already satisfied: sympy in /home/ec2-user/anaconda3/envs/pytorch_p310/lib/python3.10/site-packages (from torch==2.3.0->vllm==0.4.3) (1.13.0)\n",
      "Requirement already satisfied: networkx in /home/ec2-user/anaconda3/envs/pytorch_p310/lib/python3.10/site-packages (from torch==2.3.0->vllm==0.4.3) (3.3)\n",
      "Requirement already satisfied: fsspec in /home/ec2-user/anaconda3/envs/pytorch_p310/lib/python3.10/site-packages (from torch==2.3.0->vllm==0.4.3) (2024.6.1)\n",
      "Requirement already satisfied: nvidia-cuda-nvrtc-cu12==12.1.105 in /home/ec2-user/anaconda3/envs/pytorch_p310/lib/python3.10/site-packages (from torch==2.3.0->vllm==0.4.3) (12.1.105)\n",
      "Requirement already satisfied: nvidia-cuda-runtime-cu12==12.1.105 in /home/ec2-user/anaconda3/envs/pytorch_p310/lib/python3.10/site-packages (from torch==2.3.0->vllm==0.4.3) (12.1.105)\n",
      "Requirement already satisfied: nvidia-cuda-cupti-cu12==12.1.105 in /home/ec2-user/anaconda3/envs/pytorch_p310/lib/python3.10/site-packages (from torch==2.3.0->vllm==0.4.3) (12.1.105)\n",
      "Requirement already satisfied: nvidia-cudnn-cu12==8.9.2.26 in /home/ec2-user/anaconda3/envs/pytorch_p310/lib/python3.10/site-packages (from torch==2.3.0->vllm==0.4.3) (8.9.2.26)\n",
      "Requirement already satisfied: nvidia-cublas-cu12==12.1.3.1 in /home/ec2-user/anaconda3/envs/pytorch_p310/lib/python3.10/site-packages (from torch==2.3.0->vllm==0.4.3) (12.1.3.1)\n",
      "Requirement already satisfied: nvidia-cufft-cu12==11.0.2.54 in /home/ec2-user/anaconda3/envs/pytorch_p310/lib/python3.10/site-packages (from torch==2.3.0->vllm==0.4.3) (11.0.2.54)\n",
      "Requirement already satisfied: nvidia-curand-cu12==10.3.2.106 in /home/ec2-user/anaconda3/envs/pytorch_p310/lib/python3.10/site-packages (from torch==2.3.0->vllm==0.4.3) (10.3.2.106)\n",
      "Requirement already satisfied: nvidia-cusolver-cu12==11.4.5.107 in /home/ec2-user/anaconda3/envs/pytorch_p310/lib/python3.10/site-packages (from torch==2.3.0->vllm==0.4.3) (11.4.5.107)\n",
      "Requirement already satisfied: nvidia-cusparse-cu12==12.1.0.106 in /home/ec2-user/anaconda3/envs/pytorch_p310/lib/python3.10/site-packages (from torch==2.3.0->vllm==0.4.3) (12.1.0.106)\n",
      "Requirement already satisfied: nvidia-nccl-cu12==2.20.5 in /home/ec2-user/anaconda3/envs/pytorch_p310/lib/python3.10/site-packages (from torch==2.3.0->vllm==0.4.3) (2.20.5)\n",
      "Requirement already satisfied: nvidia-nvtx-cu12==12.1.105 in /home/ec2-user/anaconda3/envs/pytorch_p310/lib/python3.10/site-packages (from torch==2.3.0->vllm==0.4.3) (12.1.105)\n",
      "Requirement already satisfied: triton==2.3.0 in /home/ec2-user/anaconda3/envs/pytorch_p310/lib/python3.10/site-packages (from torch==2.3.0->vllm==0.4.3) (2.3.0)\n",
      "Requirement already satisfied: nvidia-nvjitlink-cu12 in /home/ec2-user/anaconda3/envs/pytorch_p310/lib/python3.10/site-packages (from nvidia-cusolver-cu12==11.4.5.107->torch==2.3.0->vllm==0.4.3) (12.6.68)\n",
      "Requirement already satisfied: starlette<1.0.0,>=0.30.0 in /home/ec2-user/anaconda3/envs/pytorch_p310/lib/python3.10/site-packages (from prometheus-fastapi-instrumentator>=7.0.0->vllm==0.4.3) (0.38.2)\n",
      "Requirement already satisfied: annotated-types>=0.4.0 in /home/ec2-user/anaconda3/envs/pytorch_p310/lib/python3.10/site-packages (from pydantic>=2.0->vllm==0.4.3) (0.7.0)\n",
      "Requirement already satisfied: pydantic-core==2.20.1 in /home/ec2-user/anaconda3/envs/pytorch_p310/lib/python3.10/site-packages (from pydantic>=2.0->vllm==0.4.3) (2.20.1)\n",
      "Requirement already satisfied: click>=7.0 in /home/ec2-user/anaconda3/envs/pytorch_p310/lib/python3.10/site-packages (from ray>=2.9->vllm==0.4.3) (8.1.7)\n",
      "Requirement already satisfied: msgpack<2.0.0,>=1.0.0 in /home/ec2-user/anaconda3/envs/pytorch_p310/lib/python3.10/site-packages (from ray>=2.9->vllm==0.4.3) (1.0.8)\n",
      "Requirement already satisfied: protobuf!=3.19.5,>=3.15.3 in /home/ec2-user/anaconda3/envs/pytorch_p310/lib/python3.10/site-packages (from ray>=2.9->vllm==0.4.3) (4.25.4)\n",
      "Requirement already satisfied: aiosignal in /home/ec2-user/anaconda3/envs/pytorch_p310/lib/python3.10/site-packages (from ray>=2.9->vllm==0.4.3) (1.3.1)\n",
      "Requirement already satisfied: frozenlist in /home/ec2-user/anaconda3/envs/pytorch_p310/lib/python3.10/site-packages (from ray>=2.9->vllm==0.4.3) (1.4.1)\n",
      "Requirement already satisfied: regex>=2022.1.18 in /home/ec2-user/anaconda3/envs/pytorch_p310/lib/python3.10/site-packages (from tiktoken>=0.6.0->vllm==0.4.3) (2024.7.24)\n",
      "Requirement already satisfied: charset-normalizer<4,>=2 in /home/ec2-user/anaconda3/envs/pytorch_p310/lib/python3.10/site-packages (from requests->vllm==0.4.3) (3.3.2)\n",
      "Requirement already satisfied: idna<4,>=2.5 in /home/ec2-user/anaconda3/envs/pytorch_p310/lib/python3.10/site-packages (from requests->vllm==0.4.3) (3.7)\n",
      "Requirement already satisfied: urllib3<3,>=1.21.1 in /home/ec2-user/anaconda3/envs/pytorch_p310/lib/python3.10/site-packages (from requests->vllm==0.4.3) (2.2.2)\n",
      "Requirement already satisfied: certifi>=2017.4.17 in /home/ec2-user/anaconda3/envs/pytorch_p310/lib/python3.10/site-packages (from requests->vllm==0.4.3) (2024.7.4)\n",
      "Requirement already satisfied: huggingface-hub<1.0,>=0.16.4 in /home/ec2-user/anaconda3/envs/pytorch_p310/lib/python3.10/site-packages (from tokenizers>=0.19.1->vllm==0.4.3) (0.24.6)\n",
      "Requirement already satisfied: safetensors>=0.4.1 in /home/ec2-user/anaconda3/envs/pytorch_p310/lib/python3.10/site-packages (from transformers>=4.40.0->vllm==0.4.3) (0.4.4)\n",
      "Requirement already satisfied: tqdm>=4.27 in /home/ec2-user/anaconda3/envs/pytorch_p310/lib/python3.10/site-packages (from transformers>=4.40.0->vllm==0.4.3) (4.66.4)\n",
      "Requirement already satisfied: aiohappyeyeballs>=2.3.0 in /home/ec2-user/anaconda3/envs/pytorch_p310/lib/python3.10/site-packages (from aiohttp->vllm==0.4.3) (2.4.0)\n",
      "Requirement already satisfied: attrs>=17.3.0 in /home/ec2-user/anaconda3/envs/pytorch_p310/lib/python3.10/site-packages (from aiohttp->vllm==0.4.3) (23.2.0)\n",
      "Requirement already satisfied: multidict<7.0,>=4.5 in /home/ec2-user/anaconda3/envs/pytorch_p310/lib/python3.10/site-packages (from aiohttp->vllm==0.4.3) (6.0.5)\n",
      "Requirement already satisfied: yarl<2.0,>=1.0 in /home/ec2-user/anaconda3/envs/pytorch_p310/lib/python3.10/site-packages (from aiohttp->vllm==0.4.3) (1.9.4)\n",
      "Requirement already satisfied: async-timeout<5.0,>=4.0 in /home/ec2-user/anaconda3/envs/pytorch_p310/lib/python3.10/site-packages (from aiohttp->vllm==0.4.3) (4.0.3)\n",
      "Requirement already satisfied: anyio<5,>=3.5.0 in /home/ec2-user/anaconda3/envs/pytorch_p310/lib/python3.10/site-packages (from openai->vllm==0.4.3) (4.4.0)\n",
      "Requirement already satisfied: distro<2,>=1.7.0 in /home/ec2-user/anaconda3/envs/pytorch_p310/lib/python3.10/site-packages (from openai->vllm==0.4.3) (1.9.0)\n",
      "Requirement already satisfied: httpx<1,>=0.23.0 in /home/ec2-user/anaconda3/envs/pytorch_p310/lib/python3.10/site-packages (from openai->vllm==0.4.3) (0.27.0)\n",
      "Requirement already satisfied: jiter<1,>=0.4.0 in /home/ec2-user/anaconda3/envs/pytorch_p310/lib/python3.10/site-packages (from openai->vllm==0.4.3) (0.5.0)\n",
      "Requirement already satisfied: sniffio in /home/ec2-user/anaconda3/envs/pytorch_p310/lib/python3.10/site-packages (from openai->vllm==0.4.3) (1.3.1)\n",
      "Requirement already satisfied: h11>=0.8 in /home/ec2-user/anaconda3/envs/pytorch_p310/lib/python3.10/site-packages (from uvicorn[standard]->vllm==0.4.3) (0.14.0)\n",
      "Requirement already satisfied: httptools>=0.5.0 in /home/ec2-user/anaconda3/envs/pytorch_p310/lib/python3.10/site-packages (from uvicorn[standard]->vllm==0.4.3) (0.6.1)\n",
      "Requirement already satisfied: python-dotenv>=0.13 in /home/ec2-user/anaconda3/envs/pytorch_p310/lib/python3.10/site-packages (from uvicorn[standard]->vllm==0.4.3) (1.0.1)\n",
      "Requirement already satisfied: uvloop!=0.15.0,!=0.15.1,>=0.14.0 in /home/ec2-user/anaconda3/envs/pytorch_p310/lib/python3.10/site-packages (from uvicorn[standard]->vllm==0.4.3) (0.20.0)\n",
      "Requirement already satisfied: watchfiles>=0.13 in /home/ec2-user/anaconda3/envs/pytorch_p310/lib/python3.10/site-packages (from uvicorn[standard]->vllm==0.4.3) (0.24.0)\n",
      "Requirement already satisfied: websockets>=10.4 in /home/ec2-user/anaconda3/envs/pytorch_p310/lib/python3.10/site-packages (from uvicorn[standard]->vllm==0.4.3) (13.0.1)\n",
      "Requirement already satisfied: exceptiongroup>=1.0.2 in /home/ec2-user/anaconda3/envs/pytorch_p310/lib/python3.10/site-packages (from anyio<5,>=3.5.0->openai->vllm==0.4.3) (1.2.2)\n",
      "Requirement already satisfied: httpcore==1.* in /home/ec2-user/anaconda3/envs/pytorch_p310/lib/python3.10/site-packages (from httpx<1,>=0.23.0->openai->vllm==0.4.3) (1.0.5)\n",
      "Requirement already satisfied: pyparsing!=3.0.5,>=2.0.2 in /home/ec2-user/anaconda3/envs/pytorch_p310/lib/python3.10/site-packages (from packaging->lm-format-enforcer==0.10.1->vllm==0.4.3) (3.1.2)\n",
      "Requirement already satisfied: MarkupSafe>=2.0 in /home/ec2-user/anaconda3/envs/pytorch_p310/lib/python3.10/site-packages (from jinja2->outlines==0.0.34->vllm==0.4.3) (2.1.5)\n",
      "Requirement already satisfied: jsonschema-specifications>=2023.03.6 in /home/ec2-user/anaconda3/envs/pytorch_p310/lib/python3.10/site-packages (from jsonschema->outlines==0.0.34->vllm==0.4.3) (2023.12.1)\n",
      "Requirement already satisfied: rpds-py>=0.7.1 in /home/ec2-user/anaconda3/envs/pytorch_p310/lib/python3.10/site-packages (from jsonschema->outlines==0.0.34->vllm==0.4.3) (0.19.1)\n",
      "Requirement already satisfied: llvmlite<0.44,>=0.43.0dev0 in /home/ec2-user/anaconda3/envs/pytorch_p310/lib/python3.10/site-packages (from numba->outlines==0.0.34->vllm==0.4.3) (0.43.0)\n",
      "Requirement already satisfied: mpmath<1.4,>=1.1.0 in /home/ec2-user/anaconda3/envs/pytorch_p310/lib/python3.10/site-packages (from sympy->torch==2.3.0->vllm==0.4.3) (1.3.0)\n",
      "Requirement already satisfied: datasets in /home/ec2-user/anaconda3/envs/pytorch_p310/lib/python3.10/site-packages (2.21.0)\n",
      "Requirement already satisfied: filelock in /home/ec2-user/anaconda3/envs/pytorch_p310/lib/python3.10/site-packages (from datasets) (3.15.4)\n",
      "Requirement already satisfied: numpy>=1.17 in /home/ec2-user/anaconda3/envs/pytorch_p310/lib/python3.10/site-packages (from datasets) (1.26.4)\n",
      "Requirement already satisfied: pyarrow>=15.0.0 in /home/ec2-user/anaconda3/envs/pytorch_p310/lib/python3.10/site-packages (from datasets) (17.0.0)\n",
      "Requirement already satisfied: dill<0.3.9,>=0.3.0 in /home/ec2-user/anaconda3/envs/pytorch_p310/lib/python3.10/site-packages (from datasets) (0.3.8)\n",
      "Requirement already satisfied: pandas in /home/ec2-user/anaconda3/envs/pytorch_p310/lib/python3.10/site-packages (from datasets) (1.5.3)\n",
      "Requirement already satisfied: requests>=2.32.2 in /home/ec2-user/anaconda3/envs/pytorch_p310/lib/python3.10/site-packages (from datasets) (2.32.3)\n",
      "Requirement already satisfied: tqdm>=4.66.3 in /home/ec2-user/anaconda3/envs/pytorch_p310/lib/python3.10/site-packages (from datasets) (4.66.4)\n",
      "Requirement already satisfied: xxhash in /home/ec2-user/anaconda3/envs/pytorch_p310/lib/python3.10/site-packages (from datasets) (3.5.0)\n",
      "Requirement already satisfied: multiprocess in /home/ec2-user/anaconda3/envs/pytorch_p310/lib/python3.10/site-packages (from datasets) (0.70.16)\n",
      "Requirement already satisfied: fsspec<=2024.6.1,>=2023.1.0 in /home/ec2-user/anaconda3/envs/pytorch_p310/lib/python3.10/site-packages (from fsspec[http]<=2024.6.1,>=2023.1.0->datasets) (2024.6.1)\n",
      "Requirement already satisfied: aiohttp in /home/ec2-user/anaconda3/envs/pytorch_p310/lib/python3.10/site-packages (from datasets) (3.10.5)\n",
      "Requirement already satisfied: huggingface-hub>=0.21.2 in /home/ec2-user/anaconda3/envs/pytorch_p310/lib/python3.10/site-packages (from datasets) (0.24.6)\n",
      "Requirement already satisfied: packaging in /home/ec2-user/anaconda3/envs/pytorch_p310/lib/python3.10/site-packages (from datasets) (21.3)\n",
      "Requirement already satisfied: pyyaml>=5.1 in /home/ec2-user/anaconda3/envs/pytorch_p310/lib/python3.10/site-packages (from datasets) (6.0.1)\n",
      "Requirement already satisfied: aiohappyeyeballs>=2.3.0 in /home/ec2-user/anaconda3/envs/pytorch_p310/lib/python3.10/site-packages (from aiohttp->datasets) (2.4.0)\n",
      "Requirement already satisfied: aiosignal>=1.1.2 in /home/ec2-user/anaconda3/envs/pytorch_p310/lib/python3.10/site-packages (from aiohttp->datasets) (1.3.1)\n",
      "Requirement already satisfied: attrs>=17.3.0 in /home/ec2-user/anaconda3/envs/pytorch_p310/lib/python3.10/site-packages (from aiohttp->datasets) (23.2.0)\n",
      "Requirement already satisfied: frozenlist>=1.1.1 in /home/ec2-user/anaconda3/envs/pytorch_p310/lib/python3.10/site-packages (from aiohttp->datasets) (1.4.1)\n",
      "Requirement already satisfied: multidict<7.0,>=4.5 in /home/ec2-user/anaconda3/envs/pytorch_p310/lib/python3.10/site-packages (from aiohttp->datasets) (6.0.5)\n",
      "Requirement already satisfied: yarl<2.0,>=1.0 in /home/ec2-user/anaconda3/envs/pytorch_p310/lib/python3.10/site-packages (from aiohttp->datasets) (1.9.4)\n",
      "Requirement already satisfied: async-timeout<5.0,>=4.0 in /home/ec2-user/anaconda3/envs/pytorch_p310/lib/python3.10/site-packages (from aiohttp->datasets) (4.0.3)\n",
      "Requirement already satisfied: typing-extensions>=3.7.4.3 in /home/ec2-user/anaconda3/envs/pytorch_p310/lib/python3.10/site-packages (from huggingface-hub>=0.21.2->datasets) (4.12.2)\n",
      "Requirement already satisfied: pyparsing!=3.0.5,>=2.0.2 in /home/ec2-user/anaconda3/envs/pytorch_p310/lib/python3.10/site-packages (from packaging->datasets) (3.1.2)\n",
      "Requirement already satisfied: charset-normalizer<4,>=2 in /home/ec2-user/anaconda3/envs/pytorch_p310/lib/python3.10/site-packages (from requests>=2.32.2->datasets) (3.3.2)\n",
      "Requirement already satisfied: idna<4,>=2.5 in /home/ec2-user/anaconda3/envs/pytorch_p310/lib/python3.10/site-packages (from requests>=2.32.2->datasets) (3.7)\n",
      "Requirement already satisfied: urllib3<3,>=1.21.1 in /home/ec2-user/anaconda3/envs/pytorch_p310/lib/python3.10/site-packages (from requests>=2.32.2->datasets) (2.2.2)\n",
      "Requirement already satisfied: certifi>=2017.4.17 in /home/ec2-user/anaconda3/envs/pytorch_p310/lib/python3.10/site-packages (from requests>=2.32.2->datasets) (2024.7.4)\n",
      "Requirement already satisfied: python-dateutil>=2.8.1 in /home/ec2-user/anaconda3/envs/pytorch_p310/lib/python3.10/site-packages (from pandas->datasets) (2.9.0)\n",
      "Requirement already satisfied: pytz>=2020.1 in /home/ec2-user/anaconda3/envs/pytorch_p310/lib/python3.10/site-packages (from pandas->datasets) (2024.1)\n",
      "Requirement already satisfied: six>=1.5 in /home/ec2-user/anaconda3/envs/pytorch_p310/lib/python3.10/site-packages (from python-dateutil>=2.8.1->pandas->datasets) (1.16.0)\n"
     ]
    }
   ],
   "source": [
    "!pip install vllm==0.4.3 bitsandbytes\n",
    "!pip install datasets"
   ]
  },
  {
   "cell_type": "code",
   "execution_count": 3,
   "id": "e6195cf1-3605-4d00-b594-071488955a02",
   "metadata": {
    "tags": []
   },
   "outputs": [],
   "source": [
    "### 从s3下载模型文件到本地"
   ]
  },
  {
   "cell_type": "code",
   "execution_count": 12,
   "id": "3719b67f-ae17-41fa-9458-c27cf4e78ecd",
   "metadata": {
    "tags": []
   },
   "outputs": [
    {
     "name": "stdout",
     "output_type": "stream",
     "text": [
      "Collecting datasets\n",
      "  Using cached datasets-2.21.0-py3-none-any.whl.metadata (21 kB)\n",
      "Requirement already satisfied: filelock in /home/ec2-user/anaconda3/envs/pytorch_p310/lib/python3.10/site-packages (from datasets) (3.15.4)\n",
      "Requirement already satisfied: numpy>=1.17 in /home/ec2-user/anaconda3/envs/pytorch_p310/lib/python3.10/site-packages (from datasets) (1.26.4)\n",
      "Requirement already satisfied: pyarrow>=15.0.0 in /home/ec2-user/anaconda3/envs/pytorch_p310/lib/python3.10/site-packages (from datasets) (17.0.0)\n",
      "Requirement already satisfied: dill<0.3.9,>=0.3.0 in /home/ec2-user/anaconda3/envs/pytorch_p310/lib/python3.10/site-packages (from datasets) (0.3.8)\n",
      "Requirement already satisfied: pandas in /home/ec2-user/anaconda3/envs/pytorch_p310/lib/python3.10/site-packages (from datasets) (1.5.3)\n",
      "Requirement already satisfied: requests>=2.32.2 in /home/ec2-user/anaconda3/envs/pytorch_p310/lib/python3.10/site-packages (from datasets) (2.32.3)\n",
      "Requirement already satisfied: tqdm>=4.66.3 in /home/ec2-user/anaconda3/envs/pytorch_p310/lib/python3.10/site-packages (from datasets) (4.66.4)\n",
      "Requirement already satisfied: xxhash in /home/ec2-user/anaconda3/envs/pytorch_p310/lib/python3.10/site-packages (from datasets) (3.5.0)\n",
      "Requirement already satisfied: multiprocess in /home/ec2-user/anaconda3/envs/pytorch_p310/lib/python3.10/site-packages (from datasets) (0.70.16)\n",
      "Requirement already satisfied: fsspec<=2024.6.1,>=2023.1.0 in /home/ec2-user/anaconda3/envs/pytorch_p310/lib/python3.10/site-packages (from fsspec[http]<=2024.6.1,>=2023.1.0->datasets) (2024.6.1)\n",
      "Requirement already satisfied: aiohttp in /home/ec2-user/anaconda3/envs/pytorch_p310/lib/python3.10/site-packages (from datasets) (3.10.5)\n",
      "Requirement already satisfied: huggingface-hub>=0.21.2 in /home/ec2-user/anaconda3/envs/pytorch_p310/lib/python3.10/site-packages (from datasets) (0.24.6)\n",
      "Requirement already satisfied: packaging in /home/ec2-user/anaconda3/envs/pytorch_p310/lib/python3.10/site-packages (from datasets) (21.3)\n",
      "Requirement already satisfied: pyyaml>=5.1 in /home/ec2-user/anaconda3/envs/pytorch_p310/lib/python3.10/site-packages (from datasets) (6.0.1)\n",
      "Requirement already satisfied: aiohappyeyeballs>=2.3.0 in /home/ec2-user/anaconda3/envs/pytorch_p310/lib/python3.10/site-packages (from aiohttp->datasets) (2.4.0)\n",
      "Requirement already satisfied: aiosignal>=1.1.2 in /home/ec2-user/anaconda3/envs/pytorch_p310/lib/python3.10/site-packages (from aiohttp->datasets) (1.3.1)\n",
      "Requirement already satisfied: attrs>=17.3.0 in /home/ec2-user/anaconda3/envs/pytorch_p310/lib/python3.10/site-packages (from aiohttp->datasets) (23.2.0)\n",
      "Requirement already satisfied: frozenlist>=1.1.1 in /home/ec2-user/anaconda3/envs/pytorch_p310/lib/python3.10/site-packages (from aiohttp->datasets) (1.4.1)\n",
      "Requirement already satisfied: multidict<7.0,>=4.5 in /home/ec2-user/anaconda3/envs/pytorch_p310/lib/python3.10/site-packages (from aiohttp->datasets) (6.0.5)\n",
      "Requirement already satisfied: yarl<2.0,>=1.0 in /home/ec2-user/anaconda3/envs/pytorch_p310/lib/python3.10/site-packages (from aiohttp->datasets) (1.9.4)\n",
      "Requirement already satisfied: async-timeout<5.0,>=4.0 in /home/ec2-user/anaconda3/envs/pytorch_p310/lib/python3.10/site-packages (from aiohttp->datasets) (4.0.3)\n",
      "Requirement already satisfied: typing-extensions>=3.7.4.3 in /home/ec2-user/anaconda3/envs/pytorch_p310/lib/python3.10/site-packages (from huggingface-hub>=0.21.2->datasets) (4.12.2)\n",
      "Requirement already satisfied: pyparsing!=3.0.5,>=2.0.2 in /home/ec2-user/anaconda3/envs/pytorch_p310/lib/python3.10/site-packages (from packaging->datasets) (3.1.2)\n",
      "Requirement already satisfied: charset-normalizer<4,>=2 in /home/ec2-user/anaconda3/envs/pytorch_p310/lib/python3.10/site-packages (from requests>=2.32.2->datasets) (3.3.2)\n",
      "Requirement already satisfied: idna<4,>=2.5 in /home/ec2-user/anaconda3/envs/pytorch_p310/lib/python3.10/site-packages (from requests>=2.32.2->datasets) (3.7)\n",
      "Requirement already satisfied: urllib3<3,>=1.21.1 in /home/ec2-user/anaconda3/envs/pytorch_p310/lib/python3.10/site-packages (from requests>=2.32.2->datasets) (2.2.2)\n",
      "Requirement already satisfied: certifi>=2017.4.17 in /home/ec2-user/anaconda3/envs/pytorch_p310/lib/python3.10/site-packages (from requests>=2.32.2->datasets) (2024.7.4)\n",
      "Requirement already satisfied: python-dateutil>=2.8.1 in /home/ec2-user/anaconda3/envs/pytorch_p310/lib/python3.10/site-packages (from pandas->datasets) (2.9.0)\n",
      "Requirement already satisfied: pytz>=2020.1 in /home/ec2-user/anaconda3/envs/pytorch_p310/lib/python3.10/site-packages (from pandas->datasets) (2024.1)\n",
      "Requirement already satisfied: six>=1.5 in /home/ec2-user/anaconda3/envs/pytorch_p310/lib/python3.10/site-packages (from python-dateutil>=2.8.1->pandas->datasets) (1.16.0)\n",
      "Using cached datasets-2.21.0-py3-none-any.whl (527 kB)\n",
      "Installing collected packages: datasets\n",
      "Successfully installed datasets-2.21.0\n"
     ]
    }
   ],
   "source": []
  },
  {
   "cell_type": "code",
   "execution_count": 4,
   "id": "411aa6cd-fb67-4a1e-a397-2082c87ade0b",
   "metadata": {
    "tags": []
   },
   "outputs": [
    {
     "name": "stdout",
     "output_type": "stream",
     "text": [
      "sagemaker.config INFO - Not applying SDK defaults from location: /etc/xdg/sagemaker/config.yaml\n",
      "sagemaker.config INFO - Not applying SDK defaults from location: /home/ec2-user/.config/sagemaker/config.yaml\n"
     ]
    }
   ],
   "source": [
    "import boto3\n",
    "import pprint\n",
    "from tqdm import tqdm\n",
    "import sagemaker\n",
    "sagemaker_session =  sagemaker.session.Session() #sagemaker.session.Session()\n",
    "region = sagemaker_session.boto_region_name\n",
    "role = sagemaker.get_execution_role()\n",
    "default_bucket = sagemaker_session.default_bucket()"
   ]
  },
  {
   "cell_type": "code",
   "execution_count": 5,
   "id": "10ad0384-68c1-4512-99df-4ac43cf7c215",
   "metadata": {
    "tags": []
   },
   "outputs": [
    {
     "name": "stdout",
     "output_type": "stream",
     "text": [
      "sagemaker-us-west-2-342367142984\n"
     ]
    }
   ],
   "source": [
    "print(default_bucket)"
   ]
  },
  {
   "cell_type": "code",
   "execution_count": 6,
   "id": "7d2eafc8-a6b3-49d0-9dee-349243e3888a",
   "metadata": {
    "tags": []
   },
   "outputs": [
    {
     "name": "stdout",
     "output_type": "stream",
     "text": [
      "download: s3://sagemaker-us-west-2-342367142984/llama3-8b-qlora/finetuned_model/README.md to local_model/finetuned_model/README.md\n",
      "download: s3://sagemaker-us-west-2-342367142984/llama3-8b-qlora/finetuned_model/adapter_config.json to local_model/finetuned_model/adapter_config.json\n",
      "download: s3://sagemaker-us-west-2-342367142984/llama3-8b-qlora/finetuned_model/checkpoint-160/rng_state.pth to local_model/finetuned_model/checkpoint-160/rng_state.pth\n",
      "download: s3://sagemaker-us-west-2-342367142984/llama3-8b-qlora/finetuned_model/checkpoint-160/README.md to local_model/finetuned_model/checkpoint-160/README.md\n",
      "download: s3://sagemaker-us-west-2-342367142984/llama3-8b-qlora/finetuned_model/checkpoint-160/adapter_config.json to local_model/finetuned_model/checkpoint-160/adapter_config.json\n",
      "download: s3://sagemaker-us-west-2-342367142984/llama3-8b-qlora/finetuned_model/all_results.json to local_model/finetuned_model/all_results.json\n",
      "download: s3://sagemaker-us-west-2-342367142984/llama3-8b-qlora/finetuned_model/checkpoint-160/scheduler.pt to local_model/finetuned_model/checkpoint-160/scheduler.pt\n",
      "download: s3://sagemaker-us-west-2-342367142984/llama3-8b-qlora/finetuned_model/checkpoint-160/special_tokens_map.json to local_model/finetuned_model/checkpoint-160/special_tokens_map.json\n",
      "download: s3://sagemaker-us-west-2-342367142984/llama3-8b-qlora/finetuned_model/checkpoint-160/tokenizer_config.json to local_model/finetuned_model/checkpoint-160/tokenizer_config.json\n",
      "download: s3://sagemaker-us-west-2-342367142984/llama3-8b-qlora/finetuned_model/checkpoint-160/tokenizer.json to local_model/finetuned_model/checkpoint-160/tokenizer.json\n",
      "download: s3://sagemaker-us-west-2-342367142984/llama3-8b-qlora/finetuned_model/checkpoint-160/training_args.bin to local_model/finetuned_model/checkpoint-160/training_args.bin\n",
      "download: s3://sagemaker-us-west-2-342367142984/llama3-8b-qlora/finetuned_model/checkpoint-160/trainer_state.json to local_model/finetuned_model/checkpoint-160/trainer_state.json\n",
      "download: s3://sagemaker-us-west-2-342367142984/llama3-8b-qlora/finetuned_model/eval_results.json to local_model/finetuned_model/eval_results.json\n",
      "download: s3://sagemaker-us-west-2-342367142984/llama3-8b-qlora/finetuned_model/runs/Aug29_19-15-40_algo-1-ci1oq/events.out.tfevents.1724959977.algo-1-ci1oq.333.1 to local_model/finetuned_model/runs/Aug29_19-15-40_algo-1-ci1oq/events.out.tfevents.1724959977.algo-1-ci1oq.333.1\n",
      "download: s3://sagemaker-us-west-2-342367142984/llama3-8b-qlora/finetuned_model/tokenizer_config.json to local_model/finetuned_model/tokenizer_config.json\n",
      "download: s3://sagemaker-us-west-2-342367142984/llama3-8b-qlora/finetuned_model/runs/Aug29_19-15-40_algo-1-ci1oq/events.out.tfevents.1724959087.algo-1-ci1oq.333.0 to local_model/finetuned_model/runs/Aug29_19-15-40_algo-1-ci1oq/events.out.tfevents.1724959087.algo-1-ci1oq.333.0\n",
      "download: s3://sagemaker-us-west-2-342367142984/llama3-8b-qlora/finetuned_model/special_tokens_map.json to local_model/finetuned_model/special_tokens_map.json\n",
      "download: s3://sagemaker-us-west-2-342367142984/llama3-8b-qlora/finetuned_model/train_results.json to local_model/finetuned_model/train_results.json\n",
      "download: s3://sagemaker-us-west-2-342367142984/llama3-8b-qlora/finetuned_model/trainer_log.jsonl to local_model/finetuned_model/trainer_log.jsonl\n",
      "download: s3://sagemaker-us-west-2-342367142984/llama3-8b-qlora/finetuned_model/trainer_state.json to local_model/finetuned_model/trainer_state.json\n",
      "download: s3://sagemaker-us-west-2-342367142984/llama3-8b-qlora/finetuned_model/adapter_model.safetensors to local_model/finetuned_model/adapter_model.safetensors\n",
      "download: s3://sagemaker-us-west-2-342367142984/llama3-8b-qlora/finetuned_model/training_args.bin to local_model/finetuned_model/training_args.bin\n",
      "download: s3://sagemaker-us-west-2-342367142984/llama3-8b-qlora/finetuned_model/training_loss.png to local_model/finetuned_model/training_loss.png\n",
      "download: s3://sagemaker-us-west-2-342367142984/llama3-8b-qlora/finetuned_model/checkpoint-160/adapter_model.safetensors to local_model/finetuned_model/checkpoint-160/adapter_model.safetensors\n",
      "download: s3://sagemaker-us-west-2-342367142984/llama3-8b-qlora/finetuned_model/tokenizer.json to local_model/finetuned_model/tokenizer.json\n",
      "download: s3://sagemaker-us-west-2-342367142984/llama3-8b-qlora/finetuned_model/checkpoint-160/optimizer.pt to local_model/finetuned_model/checkpoint-160/optimizer.pt\n"
     ]
    }
   ],
   "source": [
    "!aws s3 sync s3://{default_bucket}/llama3-8b-qlora/ ./local_model"
   ]
  },
  {
   "cell_type": "markdown",
   "id": "8efb1132-2f03-4ee8-82c7-1c5aad5cad24",
   "metadata": {},
   "source": [
    "## 加载模型tokenizer"
   ]
  },
  {
   "cell_type": "code",
   "execution_count": 7,
   "id": "ff8d2745-b522-4f24-98fc-544c59981a93",
   "metadata": {
    "tags": []
   },
   "outputs": [],
   "source": [
    "from transformers import AutoModelForCausalLM, AutoTokenizer\n",
    "import torch"
   ]
  },
  {
   "cell_type": "code",
   "execution_count": 8,
   "id": "fb0dda29-eace-4024-baa9-a31cbe38e6a7",
   "metadata": {
    "tags": []
   },
   "outputs": [
    {
     "data": {
      "application/vnd.jupyter.widget-view+json": {
       "model_id": "cb5ccae98c5c461098e746286cf3bd9b",
       "version_major": 2,
       "version_minor": 0
      },
      "text/plain": [
       "tokenizer_config.json:   0%|          | 0.00/50.9k [00:00<?, ?B/s]"
      ]
     },
     "metadata": {},
     "output_type": "display_data"
    },
    {
     "data": {
      "application/vnd.jupyter.widget-view+json": {
       "model_id": "b2a1e7318aad41f8ac2cbc0fc6985717",
       "version_major": 2,
       "version_minor": 0
      },
      "text/plain": [
       "tokenizer.json:   0%|          | 0.00/9.08M [00:00<?, ?B/s]"
      ]
     },
     "metadata": {},
     "output_type": "display_data"
    },
    {
     "data": {
      "application/vnd.jupyter.widget-view+json": {
       "model_id": "90adfddaa3024807aa679797b058fbbe",
       "version_major": 2,
       "version_minor": 0
      },
      "text/plain": [
       "special_tokens_map.json:   0%|          | 0.00/301 [00:00<?, ?B/s]"
      ]
     },
     "metadata": {},
     "output_type": "display_data"
    }
   ],
   "source": [
    "model_id = 'TechxGenus/Meta-Llama-3-8B-Instruct-AWQ'\n",
    "tokenizer = AutoTokenizer.from_pretrained(model_id)"
   ]
  },
  {
   "cell_type": "markdown",
   "id": "8bb16486-c28d-4f1a-8252-b65228d191c3",
   "metadata": {},
   "source": [
    "## 加载sample数据，用于对比"
   ]
  },
  {
   "cell_type": "code",
   "execution_count": 14,
   "id": "ce41018c-4d78-421b-a989-8a1cd08001c0",
   "metadata": {
    "tags": []
   },
   "outputs": [],
   "source": [
    "from datasets import load_dataset\n",
    "from random import randrange\n",
    "# dataset_name = \"zxbsmk/webnovel_cn\"\n",
    "dataset_name = \"hfl/ruozhiba_gpt4\"\n",
    "# Load dataset from the hub\n",
    "train_dataset = load_dataset(dataset_name, split=\"train\",revision='41d2c61beb86c8d4c61916cc656c39d018c40ce5')"
   ]
  },
  {
   "cell_type": "code",
   "execution_count": 17,
   "id": "9cc42343-da60-47a7-a3c7-5e35bf63c2e1",
   "metadata": {
    "tags": []
   },
   "outputs": [
    {
     "name": "stdout",
     "output_type": "stream",
     "text": [
      "Training size: 4898\n",
      "\n",
      "Training sample:\n",
      "\n",
      "{'input': '', 'instruction': '问一下考过驾照的吧友们 哪个科比较容易挂？', 'output': '在驾照考试中，通常科目二和科目三被认为是较容易挂科的。科目二主要是场地驾驶技能考试，包括倒车入库、侧方停车、直角转弯、坡道定点停车与起步等项目，这些项目对考生的技术细节要求较高，稍有不慎可能就会犯错。而科目三是道路驾驶技能考试，涉及变道、交通灯应对、路口转弯、公交车站靠站等实际道路驾驶的操作，在真实交通环境中，考生需要应对复杂多变的情况，也容易出现失误。因此，考生普遍认为这两个科目较为困难。'}\n"
     ]
    }
   ],
   "source": [
    "\n",
    "print(f\"Training size: {len(train_dataset)}\")\n",
    "print(\"\\nTraining sample:\\n\")\n",
    "num_samples = 200\n",
    "print(train_dataset[randrange(num_samples)])"
   ]
  },
  {
   "cell_type": "code",
   "execution_count": 18,
   "id": "86b51667-4bda-49b3-8453-b6602fc650c9",
   "metadata": {
    "tags": []
   },
   "outputs": [],
   "source": [
    "sql_lora_path = './local_model/finetuned_model'"
   ]
  },
  {
   "cell_type": "markdown",
   "id": "e3a54f14-bc6b-4536-af7e-3f402773fb98",
   "metadata": {},
   "source": [
    "## 使用本地的vLLM部署"
   ]
  },
  {
   "cell_type": "code",
   "execution_count": 19,
   "id": "fb9259ec-03be-46bf-a7bc-b558b5f4d23f",
   "metadata": {
    "tags": []
   },
   "outputs": [],
   "source": [
    "from vllm.lora.request import LoRARequest\n",
    "from vllm import LLM,SamplingParams\n",
    "from transformers import AutoModelForCausalLM, AutoTokenizer\n"
   ]
  },
  {
   "cell_type": "code",
   "execution_count": 20,
   "id": "b590cc15-e64f-4da2-abe2-ff42640cab80",
   "metadata": {
    "tags": []
   },
   "outputs": [],
   "source": [
    "model_id = 'TechxGenus/Meta-Llama-3-8B-Instruct-AWQ'\n",
    "tokenizer = AutoTokenizer.from_pretrained(model_id)"
   ]
  },
  {
   "cell_type": "code",
   "execution_count": 21,
   "id": "39cf9c61-4c9c-49af-baac-01aaabf695cd",
   "metadata": {
    "scrolled": true,
    "tags": []
   },
   "outputs": [
    {
     "data": {
      "application/vnd.jupyter.widget-view+json": {
       "model_id": "a18a12113be641f0be0a8cb1ef742f80",
       "version_major": 2,
       "version_minor": 0
      },
      "text/plain": [
       "config.json:   0%|          | 0.00/885 [00:00<?, ?B/s]"
      ]
     },
     "metadata": {},
     "output_type": "display_data"
    },
    {
     "name": "stdout",
     "output_type": "stream",
     "text": [
      "WARNING 08-29 19:48:45 config.py:213] awq quantization is not fully optimized yet. The speed can be slower than non-quantized models.\n",
      "INFO 08-29 19:48:45 llm_engine.py:161] Initializing an LLM engine (v0.4.3) with config: model='TechxGenus/Meta-Llama-3-8B-Instruct-AWQ', speculative_config=None, tokenizer='TechxGenus/Meta-Llama-3-8B-Instruct-AWQ', skip_tokenizer_init=False, tokenizer_mode=auto, revision=None, rope_scaling=None, tokenizer_revision=None, trust_remote_code=False, dtype=torch.float16, max_seq_len=4096, download_dir=None, load_format=LoadFormat.AUTO, tensor_parallel_size=1, disable_custom_all_reduce=False, quantization=awq, enforce_eager=False, kv_cache_dtype=auto, quantization_param_path=None, device_config=cuda, decoding_config=DecodingConfig(guided_decoding_backend='outlines'), seed=0, served_model_name=TechxGenus/Meta-Llama-3-8B-Instruct-AWQ)\n"
     ]
    },
    {
     "data": {
      "application/vnd.jupyter.widget-view+json": {
       "model_id": "720a1dc364e24891ac95f3ea0ba6f353",
       "version_major": 2,
       "version_minor": 0
      },
      "text/plain": [
       "generation_config.json:   0%|          | 0.00/152 [00:00<?, ?B/s]"
      ]
     },
     "metadata": {},
     "output_type": "display_data"
    },
    {
     "name": "stdout",
     "output_type": "stream",
     "text": [
      "INFO 08-29 19:48:48 weight_utils.py:207] Using model weights format ['*.safetensors']\n"
     ]
    },
    {
     "data": {
      "application/vnd.jupyter.widget-view+json": {
       "model_id": "086ba520a35247558d792d559123e51d",
       "version_major": 2,
       "version_minor": 0
      },
      "text/plain": [
       "model-00001-of-00002.safetensors:   0%|          | 0.00/4.68G [00:00<?, ?B/s]"
      ]
     },
     "metadata": {},
     "output_type": "display_data"
    },
    {
     "data": {
      "application/vnd.jupyter.widget-view+json": {
       "model_id": "3930edaba1e547a094473ac56e7e222d",
       "version_major": 2,
       "version_minor": 0
      },
      "text/plain": [
       "model-00002-of-00002.safetensors:   0%|          | 0.00/1.05G [00:00<?, ?B/s]"
      ]
     },
     "metadata": {},
     "output_type": "display_data"
    },
    {
     "data": {
      "application/vnd.jupyter.widget-view+json": {
       "model_id": "c18edf60852248d989bf49a3d7d5c847",
       "version_major": 2,
       "version_minor": 0
      },
      "text/plain": [
       "model.safetensors.index.json:   0%|          | 0.00/63.5k [00:00<?, ?B/s]"
      ]
     },
     "metadata": {},
     "output_type": "display_data"
    },
    {
     "name": "stdout",
     "output_type": "stream",
     "text": [
      "INFO 08-29 19:49:04 model_runner.py:146] Loading model weights took 5.3479 GB\n",
      "INFO 08-29 19:49:07 gpu_executor.py:83] # GPU blocks: 6493, # CPU blocks: 2048\n",
      "INFO 08-29 19:49:09 model_runner.py:854] Capturing the model for CUDA graphs. This may lead to unexpected consequences if the model is not static. To run the model in eager mode, set 'enforce_eager=True' or use '--enforce-eager' in the CLI.\n",
      "INFO 08-29 19:49:09 model_runner.py:858] CUDA graphs can take additional 1~3 GiB memory per GPU. If you are running out of memory, consider decreasing `gpu_memory_utilization` or enforcing eager mode. You can also reduce the `max_num_seqs` as needed to decrease memory usage.\n",
      "INFO 08-29 19:49:17 model_runner.py:924] Graph capturing finished in 8 secs.\n"
     ]
    }
   ],
   "source": [
    "llm = LLM(model=model_id,max_model_len=4096,enable_lora=True)"
   ]
  },
  {
   "cell_type": "code",
   "execution_count": 29,
   "id": "26f3ac73-dea3-413c-957a-dc9a615285e6",
   "metadata": {
    "tags": []
   },
   "outputs": [],
   "source": [
    "测试第一个消息\n",
    "messages = [\n",
    "    {\"role\": \"system\", \"content\":\"请始终用中文回答\"},\n",
    "     {\"role\": \"user\", \"content\": \"你是谁？你是干嘛的\"},\n",
    "]\n",
    "\n",
    "# #测试第二个消息\n",
    "# messages = [\n",
    "#     {\"role\": \"system\", \"content\":\"请始终用中文回答\"},\n",
    "#      {\"role\": \"user\", \"content\": \"睡觉时被女鬼压床我该怎么办？\"},\n",
    "# ]\n",
    "\n",
    "\n",
    "inputs = tokenizer.apply_chat_template(\n",
    "    messages,\n",
    "    tokenize=False,\n",
    "    add_generation_prompt=True\n",
    ")"
   ]
  },
  {
   "cell_type": "markdown",
   "id": "9236a21c-ce2b-4be6-8ee6-b669dd7a266d",
   "metadata": {},
   "source": [
    "### 使用原始模型进行推理"
   ]
  },
  {
   "cell_type": "code",
   "execution_count": 25,
   "id": "86d0f474-83bb-4a03-b2bd-b2c4e3c998b5",
   "metadata": {
    "tags": []
   },
   "outputs": [
    {
     "name": "stderr",
     "output_type": "stream",
     "text": [
      "Processed prompts: 100%|██████████| 1/1 [00:01<00:00,  1.08s/it, Generation Speed: 65.75 toks/s]"
     ]
    },
    {
     "name": "stdout",
     "output_type": "stream",
     "text": [
      "Prompt:\n",
      "'<|begin_of_text|><|start_header_id|>system<|end_header_id|>\\n\\n请始终用中文回答<|eot_id|><|start_header_id|>user<|end_header_id|>\\n\\n你是谁？你是干嘛的<|eot_id|><|start_header_id|>assistant<|end_header_id|>\\n\\n'\n",
      "Response:\n",
      "'我是 LLaMA，一个由 Meta 开发的基于人工智能的语言模型。我可以理解和生成自然语言，帮助用户回答问题、完成任务和进行对话。我是一个大语言模型，能够学习和改进自己，适用于各种应用场景，例如客服、内容创作、翻译等。'\n"
     ]
    },
    {
     "name": "stderr",
     "output_type": "stream",
     "text": [
      "\n"
     ]
    }
   ],
   "source": [
    "sampling_params = SamplingParams(temperature=0.1, top_p=0.95,max_tokens=512)\n",
    "\n",
    "outputs = llm.generate(inputs, sampling_params)\n",
    "for output in outputs:\n",
    "    prompt = output.prompt\n",
    "    generated_text = output.outputs[0].text\n",
    "    print(f\"Prompt:\\n{prompt!r}\")\n",
    "    print(f\"Response:\\n{generated_text!r}\")\n"
   ]
  },
  {
   "cell_type": "markdown",
   "id": "009c25a2-449e-4af5-b1c8-873c92ad9243",
   "metadata": {},
   "source": [
    "### 加载Lora进行推理"
   ]
  },
  {
   "cell_type": "code",
   "execution_count": 30,
   "id": "43a3463f-d618-47ec-a618-89719b210134",
   "metadata": {
    "tags": []
   },
   "outputs": [],
   "source": [
    "sql_lora_path = './local_model/finetuned_model'"
   ]
  },
  {
   "cell_type": "code",
   "execution_count": 31,
   "id": "95db9394-c997-48ce-92c3-33381e837833",
   "metadata": {
    "tags": []
   },
   "outputs": [
    {
     "name": "stderr",
     "output_type": "stream",
     "text": [
      "Processed prompts: 100%|██████████| 1/1 [00:02<00:00,  2.34s/it, Generation Speed: 62.84 toks/s]"
     ]
    },
    {
     "name": "stdout",
     "output_type": "stream",
     "text": [
      "Prompt:\n",
      "'<|begin_of_text|><|start_header_id|>system<|end_header_id|>\\n\\n请始终用中文回答<|eot_id|><|start_header_id|>user<|end_header_id|>\\n\\n睡觉时被女鬼压床我该怎么办？<|eot_id|><|start_header_id|>assistant<|end_header_id|>\\n\\n'\n",
      "Response:\n",
      "'睡觉时被女鬼压床这种现象在传统文化中被称为“被压床”或“被压梦”，在现代心理学和科学角度上，通常被解释为梦境中的幻觉或心理压力。这种现象可能是由于梦境中的情绪过强、睡眠质量不佳、心理压力大、或者是受到某些文化或传统的影响。因此，如果你经常梦到被女鬼压床，建议你可以尝试改善睡眠习惯，例如保持规律的睡眠时间、避免大量的精神活动前睡眠、进行放松技巧等。'\n"
     ]
    },
    {
     "name": "stderr",
     "output_type": "stream",
     "text": [
      "\n"
     ]
    }
   ],
   "source": [
    "outputs = llm.generate(inputs, sampling_params,lora_request=LoRARequest(\"adapter\", 1, sql_lora_path))\n",
    "\n",
    "# Print the outputs.\n",
    "for output in outputs:\n",
    "    prompt = output.prompt\n",
    "    generated_text = output.outputs[0].text\n",
    "    print(f\"Prompt:\\n{prompt!r}\")\n",
    "    print(f\"Response:\\n{generated_text!r}\")"
   ]
  },
  {
   "cell_type": "code",
   "execution_count": null,
   "id": "826ce7ba-6ff2-45b7-ba9a-ef909a590d68",
   "metadata": {},
   "outputs": [],
   "source": []
  }
 ],
 "metadata": {
  "kernelspec": {
   "display_name": "conda_pytorch_p310",
   "language": "python",
   "name": "conda_pytorch_p310"
  },
  "language_info": {
   "codemirror_mode": {
    "name": "ipython",
    "version": 3
   },
   "file_extension": ".py",
   "mimetype": "text/x-python",
   "name": "python",
   "nbconvert_exporter": "python",
   "pygments_lexer": "ipython3",
   "version": "3.10.14"
  }
 },
 "nbformat": 4,
 "nbformat_minor": 5
}
